{
 "cells": [
  {
   "cell_type": "markdown",
   "id": "c84fa5ba-1b87-4198-af45-149a9c4344bd",
   "metadata": {},
   "source": [
    "# Import Libraries & Load Data"
   ]
  },
  {
   "cell_type": "code",
   "execution_count": 1,
   "id": "f915364f-e4c6-4896-bb31-2037011fb057",
   "metadata": {},
   "outputs": [],
   "source": [
    "import pandas as pd\n",
    "import numpy as np\n",
    "import matplotlib.pyplot as plt\n",
    "import seaborn as sns"
   ]
  },
  {
   "cell_type": "markdown",
   "id": "e1e2d673-b723-4555-ac1e-ab927c340041",
   "metadata": {},
   "source": [
    "# Load the Datasets"
   ]
  },
  {
   "cell_type": "code",
   "execution_count": 12,
   "id": "beaf2909-721b-4c5c-9d30-9424ca1c2a9c",
   "metadata": {},
   "outputs": [],
   "source": [
    "df = pd.read_csv(\"C:\\\\Users\\\\deade\\\\OneDrive\\\\Desktop\\\\Haldiram-Project\\\\haldiram_sales_data.csv\")"
   ]
  },
  {
   "cell_type": "code",
   "execution_count": 3,
   "id": "b2958365-b8c0-4264-9041-741cb5cdf889",
   "metadata": {},
   "outputs": [
    {
     "data": {
      "text/html": [
       "<div>\n",
       "<style scoped>\n",
       "    .dataframe tbody tr th:only-of-type {\n",
       "        vertical-align: middle;\n",
       "    }\n",
       "\n",
       "    .dataframe tbody tr th {\n",
       "        vertical-align: top;\n",
       "    }\n",
       "\n",
       "    .dataframe thead th {\n",
       "        text-align: right;\n",
       "    }\n",
       "</style>\n",
       "<table border=\"1\" class=\"dataframe\">\n",
       "  <thead>\n",
       "    <tr style=\"text-align: right;\">\n",
       "      <th></th>\n",
       "      <th>Order_ID</th>\n",
       "      <th>Product_Name</th>\n",
       "      <th>Category</th>\n",
       "      <th>Quantity</th>\n",
       "      <th>Price_per_Unit</th>\n",
       "      <th>Total_Price</th>\n",
       "      <th>Order_Date</th>\n",
       "      <th>Store_Location</th>\n",
       "      <th>Stock_Available</th>\n",
       "      <th>Customer_Rating</th>\n",
       "    </tr>\n",
       "  </thead>\n",
       "  <tbody>\n",
       "    <tr>\n",
       "      <th>0</th>\n",
       "      <td>1</td>\n",
       "      <td>Navratan Mix</td>\n",
       "      <td>Snacks</td>\n",
       "      <td>1</td>\n",
       "      <td>25</td>\n",
       "      <td>25</td>\n",
       "      <td>2025-02-15</td>\n",
       "      <td>Kolkata</td>\n",
       "      <td>250</td>\n",
       "      <td>4.3</td>\n",
       "    </tr>\n",
       "    <tr>\n",
       "      <th>1</th>\n",
       "      <td>2</td>\n",
       "      <td>Bhel Puri</td>\n",
       "      <td>Snacks</td>\n",
       "      <td>3</td>\n",
       "      <td>35</td>\n",
       "      <td>105</td>\n",
       "      <td>2024-07-25</td>\n",
       "      <td>Lucknow</td>\n",
       "      <td>432</td>\n",
       "      <td>NaN</td>\n",
       "    </tr>\n",
       "    <tr>\n",
       "      <th>2</th>\n",
       "      <td>3</td>\n",
       "      <td>Navratan Mix</td>\n",
       "      <td>Snacks</td>\n",
       "      <td>7</td>\n",
       "      <td>25</td>\n",
       "      <td>175</td>\n",
       "      <td>2024-06-21</td>\n",
       "      <td>Chennai</td>\n",
       "      <td>517</td>\n",
       "      <td>3.9</td>\n",
       "    </tr>\n",
       "    <tr>\n",
       "      <th>3</th>\n",
       "      <td>4</td>\n",
       "      <td>Bhel Puri</td>\n",
       "      <td>Snacks</td>\n",
       "      <td>14</td>\n",
       "      <td>35</td>\n",
       "      <td>490</td>\n",
       "      <td>2025-03-26</td>\n",
       "      <td>Chennai</td>\n",
       "      <td>459</td>\n",
       "      <td>4.5</td>\n",
       "    </tr>\n",
       "    <tr>\n",
       "      <th>4</th>\n",
       "      <td>5</td>\n",
       "      <td>Aloo Bhujia</td>\n",
       "      <td>Snacks</td>\n",
       "      <td>6</td>\n",
       "      <td>20</td>\n",
       "      <td>120</td>\n",
       "      <td>2024-09-26</td>\n",
       "      <td>Pune</td>\n",
       "      <td>348</td>\n",
       "      <td>3.0</td>\n",
       "    </tr>\n",
       "  </tbody>\n",
       "</table>\n",
       "</div>"
      ],
      "text/plain": [
       "   Order_ID  Product_Name Category  Quantity  Price_per_Unit  Total_Price  \\\n",
       "0         1  Navratan Mix   Snacks         1              25           25   \n",
       "1         2     Bhel Puri   Snacks         3              35          105   \n",
       "2         3  Navratan Mix   Snacks         7              25          175   \n",
       "3         4     Bhel Puri   Snacks        14              35          490   \n",
       "4         5   Aloo Bhujia   Snacks         6              20          120   \n",
       "\n",
       "   Order_Date Store_Location  Stock_Available  Customer_Rating  \n",
       "0  2025-02-15        Kolkata              250              4.3  \n",
       "1  2024-07-25        Lucknow              432              NaN  \n",
       "2  2024-06-21        Chennai              517              3.9  \n",
       "3  2025-03-26        Chennai              459              4.5  \n",
       "4  2024-09-26           Pune              348              3.0  "
      ]
     },
     "execution_count": 3,
     "metadata": {},
     "output_type": "execute_result"
    }
   ],
   "source": [
    "df.head()"
   ]
  },
  {
   "cell_type": "markdown",
   "id": "6b8431b5-7e79-46c8-b4eb-42f48332da59",
   "metadata": {},
   "source": [
    "# Basic Exploration"
   ]
  },
  {
   "cell_type": "code",
   "execution_count": 4,
   "id": "4d9ca700-6579-4265-95ff-fb87e0bd42db",
   "metadata": {},
   "outputs": [
    {
     "name": "stdout",
     "output_type": "stream",
     "text": [
      "<class 'pandas.core.frame.DataFrame'>\n",
      "RangeIndex: 10000 entries, 0 to 9999\n",
      "Data columns (total 10 columns):\n",
      " #   Column           Non-Null Count  Dtype  \n",
      "---  ------           --------------  -----  \n",
      " 0   Order_ID         10000 non-null  int64  \n",
      " 1   Product_Name     10000 non-null  object \n",
      " 2   Category         10000 non-null  object \n",
      " 3   Quantity         10000 non-null  int64  \n",
      " 4   Price_per_Unit   10000 non-null  int64  \n",
      " 5   Total_Price      10000 non-null  int64  \n",
      " 6   Order_Date       10000 non-null  object \n",
      " 7   Store_Location   10000 non-null  object \n",
      " 8   Stock_Available  10000 non-null  int64  \n",
      " 9   Customer_Rating  9513 non-null   float64\n",
      "dtypes: float64(1), int64(5), object(4)\n",
      "memory usage: 781.4+ KB\n"
     ]
    }
   ],
   "source": [
    "df.info()"
   ]
  },
  {
   "cell_type": "code",
   "execution_count": 5,
   "id": "107be32d-272b-4320-8328-b6b1083e30d0",
   "metadata": {},
   "outputs": [
    {
     "data": {
      "text/html": [
       "<div>\n",
       "<style scoped>\n",
       "    .dataframe tbody tr th:only-of-type {\n",
       "        vertical-align: middle;\n",
       "    }\n",
       "\n",
       "    .dataframe tbody tr th {\n",
       "        vertical-align: top;\n",
       "    }\n",
       "\n",
       "    .dataframe thead th {\n",
       "        text-align: right;\n",
       "    }\n",
       "</style>\n",
       "<table border=\"1\" class=\"dataframe\">\n",
       "  <thead>\n",
       "    <tr style=\"text-align: right;\">\n",
       "      <th></th>\n",
       "      <th>Order_ID</th>\n",
       "      <th>Quantity</th>\n",
       "      <th>Price_per_Unit</th>\n",
       "      <th>Total_Price</th>\n",
       "      <th>Stock_Available</th>\n",
       "      <th>Customer_Rating</th>\n",
       "    </tr>\n",
       "  </thead>\n",
       "  <tbody>\n",
       "    <tr>\n",
       "      <th>count</th>\n",
       "      <td>10000.00000</td>\n",
       "      <td>10000.00000</td>\n",
       "      <td>10000.000000</td>\n",
       "      <td>10000.000000</td>\n",
       "      <td>10000.000000</td>\n",
       "      <td>9513.000000</td>\n",
       "    </tr>\n",
       "    <tr>\n",
       "      <th>mean</th>\n",
       "      <td>5000.50000</td>\n",
       "      <td>10.50910</td>\n",
       "      <td>55.379000</td>\n",
       "      <td>580.453500</td>\n",
       "      <td>496.752500</td>\n",
       "      <td>3.755009</td>\n",
       "    </tr>\n",
       "    <tr>\n",
       "      <th>std</th>\n",
       "      <td>2886.89568</td>\n",
       "      <td>5.75467</td>\n",
       "      <td>40.568472</td>\n",
       "      <td>577.807821</td>\n",
       "      <td>290.496452</td>\n",
       "      <td>0.722394</td>\n",
       "    </tr>\n",
       "    <tr>\n",
       "      <th>min</th>\n",
       "      <td>1.00000</td>\n",
       "      <td>1.00000</td>\n",
       "      <td>10.000000</td>\n",
       "      <td>10.000000</td>\n",
       "      <td>0.000000</td>\n",
       "      <td>2.500000</td>\n",
       "    </tr>\n",
       "    <tr>\n",
       "      <th>25%</th>\n",
       "      <td>2500.75000</td>\n",
       "      <td>5.00000</td>\n",
       "      <td>25.000000</td>\n",
       "      <td>175.000000</td>\n",
       "      <td>246.000000</td>\n",
       "      <td>3.100000</td>\n",
       "    </tr>\n",
       "    <tr>\n",
       "      <th>50%</th>\n",
       "      <td>5000.50000</td>\n",
       "      <td>10.00000</td>\n",
       "      <td>40.000000</td>\n",
       "      <td>385.000000</td>\n",
       "      <td>493.000000</td>\n",
       "      <td>3.800000</td>\n",
       "    </tr>\n",
       "    <tr>\n",
       "      <th>75%</th>\n",
       "      <td>7500.25000</td>\n",
       "      <td>16.00000</td>\n",
       "      <td>80.000000</td>\n",
       "      <td>760.000000</td>\n",
       "      <td>751.000000</td>\n",
       "      <td>4.400000</td>\n",
       "    </tr>\n",
       "    <tr>\n",
       "      <th>max</th>\n",
       "      <td>10000.00000</td>\n",
       "      <td>20.00000</td>\n",
       "      <td>150.000000</td>\n",
       "      <td>3000.000000</td>\n",
       "      <td>1000.000000</td>\n",
       "      <td>5.000000</td>\n",
       "    </tr>\n",
       "  </tbody>\n",
       "</table>\n",
       "</div>"
      ],
      "text/plain": [
       "          Order_ID     Quantity  Price_per_Unit   Total_Price  \\\n",
       "count  10000.00000  10000.00000    10000.000000  10000.000000   \n",
       "mean    5000.50000     10.50910       55.379000    580.453500   \n",
       "std     2886.89568      5.75467       40.568472    577.807821   \n",
       "min        1.00000      1.00000       10.000000     10.000000   \n",
       "25%     2500.75000      5.00000       25.000000    175.000000   \n",
       "50%     5000.50000     10.00000       40.000000    385.000000   \n",
       "75%     7500.25000     16.00000       80.000000    760.000000   \n",
       "max    10000.00000     20.00000      150.000000   3000.000000   \n",
       "\n",
       "       Stock_Available  Customer_Rating  \n",
       "count     10000.000000      9513.000000  \n",
       "mean        496.752500         3.755009  \n",
       "std         290.496452         0.722394  \n",
       "min           0.000000         2.500000  \n",
       "25%         246.000000         3.100000  \n",
       "50%         493.000000         3.800000  \n",
       "75%         751.000000         4.400000  \n",
       "max        1000.000000         5.000000  "
      ]
     },
     "execution_count": 5,
     "metadata": {},
     "output_type": "execute_result"
    }
   ],
   "source": [
    "df.describe()"
   ]
  },
  {
   "cell_type": "code",
   "execution_count": 6,
   "id": "c93515cb-7816-40bc-8681-0fe48354e72b",
   "metadata": {},
   "outputs": [
    {
     "data": {
      "text/plain": [
       "(10000, 10)"
      ]
     },
     "execution_count": 6,
     "metadata": {},
     "output_type": "execute_result"
    }
   ],
   "source": [
    "df.shape"
   ]
  },
  {
   "cell_type": "markdown",
   "id": "3292c6ea-d0ea-4401-87d6-d4a41ada08dd",
   "metadata": {},
   "source": [
    "# Handle Missing Values"
   ]
  },
  {
   "cell_type": "code",
   "execution_count": 7,
   "id": "424ea10b-6b2a-4a19-aa7d-c5072902af1a",
   "metadata": {},
   "outputs": [
    {
     "data": {
      "text/plain": [
       "Order_ID             0\n",
       "Product_Name         0\n",
       "Category             0\n",
       "Quantity             0\n",
       "Price_per_Unit       0\n",
       "Total_Price          0\n",
       "Order_Date           0\n",
       "Store_Location       0\n",
       "Stock_Available      0\n",
       "Customer_Rating    487\n",
       "dtype: int64"
      ]
     },
     "execution_count": 7,
     "metadata": {},
     "output_type": "execute_result"
    }
   ],
   "source": [
    "df.isnull().sum()"
   ]
  },
  {
   "cell_type": "code",
   "execution_count": 17,
   "id": "8fc410fa-cb06-4e26-9c1b-d071430b0f20",
   "metadata": {},
   "outputs": [],
   "source": [
    "df.dropna(inplace=True)"
   ]
  },
  {
   "cell_type": "code",
   "execution_count": 18,
   "id": "2a771cf2-1b97-4ad8-95a9-91be019b5ce8",
   "metadata": {},
   "outputs": [
    {
     "data": {
      "text/plain": [
       "Order_ID           0\n",
       "Product_Name       0\n",
       "Category           0\n",
       "Quantity           0\n",
       "Price_per_Unit     0\n",
       "Total_Price        0\n",
       "Order_Date         0\n",
       "Store_Location     0\n",
       "Stock_Available    0\n",
       "Customer_Rating    0\n",
       "dtype: int64"
      ]
     },
     "execution_count": 18,
     "metadata": {},
     "output_type": "execute_result"
    }
   ],
   "source": [
    "df.isnull().sum()"
   ]
  },
  {
   "cell_type": "code",
   "execution_count": 19,
   "id": "54e74aef-7ebb-4486-857e-4a96a2cf59b0",
   "metadata": {},
   "outputs": [
    {
     "data": {
      "text/html": [
       "<div>\n",
       "<style scoped>\n",
       "    .dataframe tbody tr th:only-of-type {\n",
       "        vertical-align: middle;\n",
       "    }\n",
       "\n",
       "    .dataframe tbody tr th {\n",
       "        vertical-align: top;\n",
       "    }\n",
       "\n",
       "    .dataframe thead th {\n",
       "        text-align: right;\n",
       "    }\n",
       "</style>\n",
       "<table border=\"1\" class=\"dataframe\">\n",
       "  <thead>\n",
       "    <tr style=\"text-align: right;\">\n",
       "      <th></th>\n",
       "      <th>Order_ID</th>\n",
       "      <th>Product_Name</th>\n",
       "      <th>Category</th>\n",
       "      <th>Quantity</th>\n",
       "      <th>Price_per_Unit</th>\n",
       "      <th>Total_Price</th>\n",
       "      <th>Order_Date</th>\n",
       "      <th>Store_Location</th>\n",
       "      <th>Stock_Available</th>\n",
       "      <th>Customer_Rating</th>\n",
       "    </tr>\n",
       "  </thead>\n",
       "  <tbody>\n",
       "    <tr>\n",
       "      <th>0</th>\n",
       "      <td>1</td>\n",
       "      <td>Navratan Mix</td>\n",
       "      <td>Snacks</td>\n",
       "      <td>1</td>\n",
       "      <td>25</td>\n",
       "      <td>25</td>\n",
       "      <td>2025-02-15</td>\n",
       "      <td>Kolkata</td>\n",
       "      <td>250</td>\n",
       "      <td>4.300000</td>\n",
       "    </tr>\n",
       "    <tr>\n",
       "      <th>1</th>\n",
       "      <td>2</td>\n",
       "      <td>Bhel Puri</td>\n",
       "      <td>Snacks</td>\n",
       "      <td>3</td>\n",
       "      <td>35</td>\n",
       "      <td>105</td>\n",
       "      <td>2024-07-25</td>\n",
       "      <td>Lucknow</td>\n",
       "      <td>432</td>\n",
       "      <td>3.755009</td>\n",
       "    </tr>\n",
       "    <tr>\n",
       "      <th>2</th>\n",
       "      <td>3</td>\n",
       "      <td>Navratan Mix</td>\n",
       "      <td>Snacks</td>\n",
       "      <td>7</td>\n",
       "      <td>25</td>\n",
       "      <td>175</td>\n",
       "      <td>2024-06-21</td>\n",
       "      <td>Chennai</td>\n",
       "      <td>517</td>\n",
       "      <td>3.900000</td>\n",
       "    </tr>\n",
       "    <tr>\n",
       "      <th>3</th>\n",
       "      <td>4</td>\n",
       "      <td>Bhel Puri</td>\n",
       "      <td>Snacks</td>\n",
       "      <td>14</td>\n",
       "      <td>35</td>\n",
       "      <td>490</td>\n",
       "      <td>2025-03-26</td>\n",
       "      <td>Chennai</td>\n",
       "      <td>459</td>\n",
       "      <td>4.500000</td>\n",
       "    </tr>\n",
       "    <tr>\n",
       "      <th>4</th>\n",
       "      <td>5</td>\n",
       "      <td>Aloo Bhujia</td>\n",
       "      <td>Snacks</td>\n",
       "      <td>6</td>\n",
       "      <td>20</td>\n",
       "      <td>120</td>\n",
       "      <td>2024-09-26</td>\n",
       "      <td>Pune</td>\n",
       "      <td>348</td>\n",
       "      <td>3.000000</td>\n",
       "    </tr>\n",
       "  </tbody>\n",
       "</table>\n",
       "</div>"
      ],
      "text/plain": [
       "   Order_ID  Product_Name Category  Quantity  Price_per_Unit  Total_Price  \\\n",
       "0         1  Navratan Mix   Snacks         1              25           25   \n",
       "1         2     Bhel Puri   Snacks         3              35          105   \n",
       "2         3  Navratan Mix   Snacks         7              25          175   \n",
       "3         4     Bhel Puri   Snacks        14              35          490   \n",
       "4         5   Aloo Bhujia   Snacks         6              20          120   \n",
       "\n",
       "   Order_Date Store_Location  Stock_Available  Customer_Rating  \n",
       "0  2025-02-15        Kolkata              250         4.300000  \n",
       "1  2024-07-25        Lucknow              432         3.755009  \n",
       "2  2024-06-21        Chennai              517         3.900000  \n",
       "3  2025-03-26        Chennai              459         4.500000  \n",
       "4  2024-09-26           Pune              348         3.000000  "
      ]
     },
     "execution_count": 19,
     "metadata": {},
     "output_type": "execute_result"
    }
   ],
   "source": [
    "df.head()"
   ]
  },
  {
   "cell_type": "markdown",
   "id": "76e46666-a7a3-4954-852f-b2ace1c7582d",
   "metadata": {},
   "source": [
    "# Data Type Conversion"
   ]
  },
  {
   "cell_type": "code",
   "execution_count": 20,
   "id": "91297072-4598-4f74-be85-865a69c762f3",
   "metadata": {},
   "outputs": [],
   "source": [
    "df['Order_Date'] = pd.to_datetime(df['Order_Date'])"
   ]
  },
  {
   "cell_type": "code",
   "execution_count": 21,
   "id": "b206376e-07a4-4ba8-b96c-10463f33fdee",
   "metadata": {},
   "outputs": [
    {
     "data": {
      "text/html": [
       "<div>\n",
       "<style scoped>\n",
       "    .dataframe tbody tr th:only-of-type {\n",
       "        vertical-align: middle;\n",
       "    }\n",
       "\n",
       "    .dataframe tbody tr th {\n",
       "        vertical-align: top;\n",
       "    }\n",
       "\n",
       "    .dataframe thead th {\n",
       "        text-align: right;\n",
       "    }\n",
       "</style>\n",
       "<table border=\"1\" class=\"dataframe\">\n",
       "  <thead>\n",
       "    <tr style=\"text-align: right;\">\n",
       "      <th></th>\n",
       "      <th>Order_ID</th>\n",
       "      <th>Product_Name</th>\n",
       "      <th>Category</th>\n",
       "      <th>Quantity</th>\n",
       "      <th>Price_per_Unit</th>\n",
       "      <th>Total_Price</th>\n",
       "      <th>Order_Date</th>\n",
       "      <th>Store_Location</th>\n",
       "      <th>Stock_Available</th>\n",
       "      <th>Customer_Rating</th>\n",
       "    </tr>\n",
       "  </thead>\n",
       "  <tbody>\n",
       "    <tr>\n",
       "      <th>0</th>\n",
       "      <td>1</td>\n",
       "      <td>Navratan Mix</td>\n",
       "      <td>Snacks</td>\n",
       "      <td>1</td>\n",
       "      <td>25</td>\n",
       "      <td>25</td>\n",
       "      <td>2025-02-15</td>\n",
       "      <td>Kolkata</td>\n",
       "      <td>250</td>\n",
       "      <td>4.300000</td>\n",
       "    </tr>\n",
       "    <tr>\n",
       "      <th>1</th>\n",
       "      <td>2</td>\n",
       "      <td>Bhel Puri</td>\n",
       "      <td>Snacks</td>\n",
       "      <td>3</td>\n",
       "      <td>35</td>\n",
       "      <td>105</td>\n",
       "      <td>2024-07-25</td>\n",
       "      <td>Lucknow</td>\n",
       "      <td>432</td>\n",
       "      <td>3.755009</td>\n",
       "    </tr>\n",
       "    <tr>\n",
       "      <th>2</th>\n",
       "      <td>3</td>\n",
       "      <td>Navratan Mix</td>\n",
       "      <td>Snacks</td>\n",
       "      <td>7</td>\n",
       "      <td>25</td>\n",
       "      <td>175</td>\n",
       "      <td>2024-06-21</td>\n",
       "      <td>Chennai</td>\n",
       "      <td>517</td>\n",
       "      <td>3.900000</td>\n",
       "    </tr>\n",
       "    <tr>\n",
       "      <th>3</th>\n",
       "      <td>4</td>\n",
       "      <td>Bhel Puri</td>\n",
       "      <td>Snacks</td>\n",
       "      <td>14</td>\n",
       "      <td>35</td>\n",
       "      <td>490</td>\n",
       "      <td>2025-03-26</td>\n",
       "      <td>Chennai</td>\n",
       "      <td>459</td>\n",
       "      <td>4.500000</td>\n",
       "    </tr>\n",
       "    <tr>\n",
       "      <th>4</th>\n",
       "      <td>5</td>\n",
       "      <td>Aloo Bhujia</td>\n",
       "      <td>Snacks</td>\n",
       "      <td>6</td>\n",
       "      <td>20</td>\n",
       "      <td>120</td>\n",
       "      <td>2024-09-26</td>\n",
       "      <td>Pune</td>\n",
       "      <td>348</td>\n",
       "      <td>3.000000</td>\n",
       "    </tr>\n",
       "  </tbody>\n",
       "</table>\n",
       "</div>"
      ],
      "text/plain": [
       "   Order_ID  Product_Name Category  Quantity  Price_per_Unit  Total_Price  \\\n",
       "0         1  Navratan Mix   Snacks         1              25           25   \n",
       "1         2     Bhel Puri   Snacks         3              35          105   \n",
       "2         3  Navratan Mix   Snacks         7              25          175   \n",
       "3         4     Bhel Puri   Snacks        14              35          490   \n",
       "4         5   Aloo Bhujia   Snacks         6              20          120   \n",
       "\n",
       "  Order_Date Store_Location  Stock_Available  Customer_Rating  \n",
       "0 2025-02-15        Kolkata              250         4.300000  \n",
       "1 2024-07-25        Lucknow              432         3.755009  \n",
       "2 2024-06-21        Chennai              517         3.900000  \n",
       "3 2025-03-26        Chennai              459         4.500000  \n",
       "4 2024-09-26           Pune              348         3.000000  "
      ]
     },
     "execution_count": 21,
     "metadata": {},
     "output_type": "execute_result"
    }
   ],
   "source": [
    "df.head()"
   ]
  },
  {
   "cell_type": "markdown",
   "id": "9d0de097-1483-4f71-b5b2-768085434f82",
   "metadata": {},
   "source": [
    "# Clean Categorical Columns"
   ]
  },
  {
   "cell_type": "code",
   "execution_count": 22,
   "id": "ffec0ba3-ff51-41e4-87e7-8cc28551db80",
   "metadata": {},
   "outputs": [],
   "source": [
    "df['Store_Location'] = df['Store_Location'].str.strip().str.title()\n",
    "df['Category'] = df['Category'].str.strip().str.title()"
   ]
  },
  {
   "cell_type": "markdown",
   "id": "71147afd-3c82-4e37-a6cd-822939f684e9",
   "metadata": {},
   "source": [
    "# Total Price"
   ]
  },
  {
   "cell_type": "code",
   "execution_count": 24,
   "id": "91f7f426-d2d2-4c15-adc1-fd0d6b80e9d1",
   "metadata": {},
   "outputs": [],
   "source": [
    "df['Total_Price'] = df['Quantity'] * df['Price_per_Unit']"
   ]
  },
  {
   "cell_type": "markdown",
   "id": "1a15932f-cbd1-492d-a698-6c9d552f30a7",
   "metadata": {},
   "source": [
    "#  Revenue Category (Low / Medium / High)"
   ]
  },
  {
   "cell_type": "code",
   "execution_count": 26,
   "id": "3e1818de-77e8-4cb9-8726-0f84398c5da0",
   "metadata": {},
   "outputs": [],
   "source": [
    "def revenue_category(x):\n",
    "    if x < 500:\n",
    "        return 'Low'\n",
    "    elif x < 1000:\n",
    "        return 'Medium'\n",
    "    else:\n",
    "        return 'High'\n",
    "\n",
    "df['Revenue_Category'] = df['Total_Price'].apply(revenue_category)"
   ]
  },
  {
   "cell_type": "markdown",
   "id": "0ea13ec7-f134-4126-bbda-f1b340852ff6",
   "metadata": {},
   "source": [
    "# Month Column"
   ]
  },
  {
   "cell_type": "code",
   "execution_count": 28,
   "id": "147427ae-15d4-4153-9a18-ba4115d62684",
   "metadata": {},
   "outputs": [],
   "source": [
    "df['Order_Month'] = df['Order_Date'].dt.month_name()"
   ]
  },
  {
   "cell_type": "markdown",
   "id": "f3a98fc4-e7d7-4826-a2ed-74155f2a2592",
   "metadata": {},
   "source": [
    "# Rating Category"
   ]
  },
  {
   "cell_type": "code",
   "execution_count": 30,
   "id": "83d2e4b8-827a-404d-9052-ca1785fd41df",
   "metadata": {},
   "outputs": [],
   "source": [
    "def rate_group(rating):\n",
    "    if rating < 3.0:\n",
    "        return 'Bad'\n",
    "    elif rating < 4.0:\n",
    "        return 'Average'\n",
    "    else:\n",
    "        return 'Good'\n",
    "\n",
    "df['Rating_Category'] = df['Customer_Rating'].apply(rate_group)"
   ]
  },
  {
   "cell_type": "markdown",
   "id": "8203e489-efee-4025-9171-54691d1cee90",
   "metadata": {},
   "source": [
    "# Save Cleaned File for SQL"
   ]
  },
  {
   "cell_type": "code",
   "execution_count": 41,
   "id": "5b87049b-adbf-4bf7-ba12-1f21542d7d38",
   "metadata": {},
   "outputs": [],
   "source": [
    "df.to_csv(\"C:\\\\Users\\\\deade\\\\OneDrive\\\\Desktop\\\\Haldiram-Project\\\\haldiram-analysis\", index=False)"
   ]
  },
  {
   "cell_type": "markdown",
   "id": "a34871ac-6fec-46a9-92e3-396e546bdb3d",
   "metadata": {},
   "source": [
    "# Most Sold Products"
   ]
  },
  {
   "cell_type": "code",
   "execution_count": 42,
   "id": "32bf04a9-bbe1-4921-b4f8-c799cfa0f924",
   "metadata": {},
   "outputs": [
    {
     "data": {
      "image/png": "[encoded data removed]",
      "text/plain": [
       "<Figure size 640x480 with 1 Axes>"
      ]
     },
     "metadata": {},
     "output_type": "display_data"
    }
   ],
   "source": [
    "df['Product_Name'].value_counts().head(10).plot(kind='bar')\n",
    "plt.title(\"Top Selling Products\")\n",
    "plt.xlabel(\"Product\")\n",
    "plt.ylabel(\"Count\")\n",
    "plt.xticks(rotation=45)\n",
    "plt.show()"
   ]
  },
  {
   "cell_type": "markdown",
   "id": "452ae7ee-2131-43b0-bf55-f8e29845879f",
   "metadata": {},
   "source": [
    "#  Revenue by City"
   ]
  },
  {
   "cell_type": "code",
   "execution_count": 38,
   "id": "7bfbf0b1-982d-40f2-a466-bdd6f6b60ec5",
   "metadata": {},
   "outputs": [
    {
     "data": {
      "image/png": "[encoded data removed]",
      "text/plain": [
       "<Figure size 640x480 with 1 Axes>"
      ]
     },
     "metadata": {},
     "output_type": "display_data"
    }
   ],
   "source": [
    "city_revenue = df.groupby('Store_Location')['Total_Price'].sum().sort_values(ascending=False)\n",
    "city_revenue.plot(kind='bar', color='orange')\n",
    "plt.title(\"Total Revenue by Store Location\")\n",
    "plt.xlabel(\"City\")\n",
    "plt.ylabel(\"Revenue\")\n",
    "plt.xticks(rotation=45)\n",
    "plt.show()"
   ]
  },
  {
   "cell_type": "markdown",
   "id": "32ffcf78-2b90-4050-9f0b-e06ea3e72c58",
   "metadata": {},
   "source": [
    "# Monthly Sales Trend"
   ]
  },
  {
   "cell_type": "code",
   "execution_count": 39,
   "id": "9b3ea2bb-5e2f-4851-b4dd-cc5accbe37df",
   "metadata": {},
   "outputs": [
    {
     "data": {
      "image/png": "[encoded data removed]",
      "text/plain": [
       "<Figure size 640x480 with 1 Axes>"
      ]
     },
     "metadata": {},
     "output_type": "display_data"
    }
   ],
   "source": [
    "df['Month'] = df['Order_Date'].dt.to_period('M')\n",
    "monthly_sales = df.groupby('Month')['Total_Price'].sum()\n",
    "monthly_sales.plot(marker='o')\n",
    "plt.title(\"Monthly Sales Trend\")\n",
    "plt.ylabel(\"Revenue\")\n",
    "plt.xlabel(\"Month\")\n",
    "plt.xticks(rotation=45)\n",
    "plt.show()\n"
   ]
  },
  {
   "cell_type": "markdown",
   "id": "7f376312-5153-4f45-90c6-1dbcdf53cc81",
   "metadata": {},
   "source": [
    " # Ratings Distribution"
   ]
  },
  {
   "cell_type": "code",
   "execution_count": 40,
   "id": "ac8281af-d943-41dc-a20d-b3d121a07c89",
   "metadata": {},
   "outputs": [
    {
     "data": {
      "image/png": "[encoded data removed]",
      "text/plain": [
       "<Figure size 640x480 with 1 Axes>"
      ]
     },
     "metadata": {},
     "output_type": "display_data"
    }
   ],
   "source": [
    "sns.histplot(df['Customer_Rating'], bins=10, kde=True, color='green')\n",
    "plt.title(\"Customer Ratings Distribution\")\n",
    "plt.xlabel(\"Rating\")\n",
    "plt.show()\n"
   ]
  },
  {
   "cell_type": "code",
   "execution_count": null,
   "id": "be93c391-42bf-49b4-afb5-ad4f33da45bd",
   "metadata": {},
   "outputs": [],
   "source": []
  }
 ],
 "metadata": {
  "kernelspec": {
   "display_name": "Python 3 (ipykernel)",
   "language": "python",
   "name": "python3"
  },
  "language_info": {
   "codemirror_mode": {
    "name": "ipython",
    "version": 3
   },
   "file_extension": ".py",
   "mimetype": "text/x-python",
   "name": "python",
   "nbconvert_exporter": "python",
   "pygments_lexer": "ipython3",
   "version": "3.13.2"
  }
 },
 "nbformat": 4,
 "nbformat_minor": 5
}
